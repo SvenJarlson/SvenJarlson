{
 "cells": [
  {
   "cell_type": "code",
   "execution_count": 4,
   "id": "e09d680a",
   "metadata": {},
   "outputs": [],
   "source": [
    "from random import shuffle"
   ]
  },
  {
   "cell_type": "code",
   "execution_count": 5,
   "id": "a354e91e",
   "metadata": {},
   "outputs": [],
   "source": [
    "mylist = ['','0','']"
   ]
  },
  {
   "cell_type": "code",
   "execution_count": 6,
   "id": "a9a1b047",
   "metadata": {},
   "outputs": [],
   "source": [
    "def shuffle_list(mylist):\n",
    "    shuffle(mylist)\n",
    "    \n",
    "    return mylist"
   ]
  },
  {
   "cell_type": "code",
   "execution_count": 4,
   "id": "302fd2f0",
   "metadata": {},
   "outputs": [
    {
     "data": {
      "text/plain": [
       "['0', '', '']"
      ]
     },
     "execution_count": 4,
     "metadata": {},
     "output_type": "execute_result"
    }
   ],
   "source": [
    "shuffle_list(mylist)"
   ]
  },
  {
   "cell_type": "code",
   "execution_count": 5,
   "id": "0a19a334",
   "metadata": {},
   "outputs": [
    {
     "data": {
      "text/plain": [
       "['', '0', '']"
      ]
     },
     "execution_count": 5,
     "metadata": {},
     "output_type": "execute_result"
    }
   ],
   "source": [
    "shuffle_list(mylist)"
   ]
  },
  {
   "cell_type": "code",
   "execution_count": 7,
   "id": "0bb6db28",
   "metadata": {},
   "outputs": [],
   "source": [
    "def player_guess():\n",
    "    \n",
    "    guess = ''\n",
    "    \n",
    "    while guess not in ('0','1','2'):\n",
    "        \n",
    "        guess = input('Pick a number 0, 1 or 2:\\n')\n",
    "        \n",
    "    return int(guess)    "
   ]
  },
  {
   "cell_type": "code",
   "execution_count": 8,
   "id": "d2c539c8",
   "metadata": {},
   "outputs": [
    {
     "name": "stdout",
     "output_type": "stream",
     "text": [
      "Pick a number 0, 1 or 2:\n",
      "1\n"
     ]
    },
    {
     "data": {
      "text/plain": [
       "1"
      ]
     },
     "execution_count": 8,
     "metadata": {},
     "output_type": "execute_result"
    }
   ],
   "source": [
    "player_guess()"
   ]
  },
  {
   "cell_type": "code",
   "execution_count": 9,
   "id": "6319529b",
   "metadata": {},
   "outputs": [
    {
     "name": "stdout",
     "output_type": "stream",
     "text": [
      "Pick a number 0, 1 or 2:\n",
      "12\n",
      "Pick a number 0, 1 or 2:\n",
      "13\n",
      "Pick a number 0, 1 or 2:\n",
      "14\n",
      "Pick a number 0, 1 or 2:\n",
      "1\n"
     ]
    },
    {
     "data": {
      "text/plain": [
       "1"
      ]
     },
     "execution_count": 9,
     "metadata": {},
     "output_type": "execute_result"
    }
   ],
   "source": [
    "player_guess()"
   ]
  },
  {
   "cell_type": "code",
   "execution_count": 14,
   "id": "a4bc57d0",
   "metadata": {},
   "outputs": [],
   "source": [
    "def check_guess(mylist,guess):\n",
    "    if mylist[guess] == '0':\n",
    "        print('Correct Guess!')\n",
    "        print(mylist)\n",
    "    else:\n",
    "        print('Wrong!Better luck next time')\n",
    "        print(mylist)"
   ]
  },
  {
   "cell_type": "code",
   "execution_count": 10,
   "id": "ca5d45f4",
   "metadata": {},
   "outputs": [],
   "source": [
    "def shellgame():\n",
    "    \n",
    "    mylist = ['','','0']\n",
    "    \n",
    "    mixed_up_list = shuffle_list(mylist)\n",
    "\n",
    "    guess = player_guess()\n",
    "\n",
    "    check_guess(mixed_up_list,guess)"
   ]
  },
  {
   "cell_type": "code",
   "execution_count": 15,
   "id": "d2a5bdc5",
   "metadata": {},
   "outputs": [
    {
     "name": "stdout",
     "output_type": "stream",
     "text": [
      "Pick a number 0, 1 or 2:\n",
      "1\n",
      "Correct Guess!\n",
      "['', '0', '']\n"
     ]
    }
   ],
   "source": [
    "shellgame()"
   ]
  },
  {
   "cell_type": "code",
   "execution_count": null,
   "id": "c773cd5d",
   "metadata": {},
   "outputs": [],
   "source": []
  }
 ],
 "metadata": {
  "kernelspec": {
   "display_name": "Python 3",
   "language": "python",
   "name": "python3"
  },
  "language_info": {
   "codemirror_mode": {
    "name": "ipython",
    "version": 3
   },
   "file_extension": ".py",
   "mimetype": "text/x-python",
   "name": "python",
   "nbconvert_exporter": "python",
   "pygments_lexer": "ipython3",
   "version": "3.8.8"
  }
 },
 "nbformat": 4,
 "nbformat_minor": 5
}
